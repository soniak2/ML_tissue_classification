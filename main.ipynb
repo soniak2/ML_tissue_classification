{
 "cells": [
  {
   "cell_type": "code",
   "execution_count": null,
   "metadata": {},
   "outputs": [],
   "source": [
    "from utils.preprocessing import prepare_masks, count_pixels\n",
    "from utils.features import extract_pixels\n",
    "from utils.prediction import train_classifier, evaluate_model, predict_tissue\n",
    "from utils.io import load_metrics\n",
    "from config import MASKS_PATH, CLASSES, CLASSES_COLORS, TISSUE_MASK\n",
    "from sklearn.model_selection import train_test_split"
   ]
  },
  {
   "cell_type": "code",
   "execution_count": null,
   "metadata": {},
   "outputs": [
    {
     "name": "stdout",
     "output_type": "stream",
     "text": [
      "Loaded metrics: BR2085d_3_5_metrics_new_MNF20.hdr\n"
     ]
    },
    {
     "name": "stderr",
     "output_type": "stream",
     "text": [
      "[Parallel(n_jobs=1)]: Done  49 tasks      | elapsed:   52.2s\n"
     ]
    },
    {
     "name": "stdout",
     "output_type": "stream",
     "text": [
      "Accuracy: 0.91\n",
      "Classification Report:\n",
      "               precision    recall  f1-score   support\n",
      "\n",
      "           0       0.91      0.91      0.91      7687\n",
      "           1       0.91      0.90      0.90      7907\n",
      "           2       0.92      0.92      0.92      7722\n",
      "\n",
      "    accuracy                           0.91     23316\n",
      "   macro avg       0.91      0.91      0.91     23316\n",
      "weighted avg       0.91      0.91      0.91     23316\n",
      "\n"
     ]
    },
    {
     "name": "stderr",
     "output_type": "stream",
     "text": [
      "[Parallel(n_jobs=1)]: Done  49 tasks      | elapsed:    0.3s\n"
     ]
    }
   ],
   "source": [
    "# Step 1: Generate or clean binary masks for each tissue class (e.g. cancer, benign tumor, stroma)\n",
    "# These masks indicate which pixels in the images belong to which class\n",
    "prepare_masks(MASKS_PATH, CLASSES, TISSUE_MASK)\n",
    "\n",
    "# Step 2: Count and collect pixel coordinates for each class from the masks\n",
    "# Also determine the minimum number of pixels available across all classes\n",
    "indexes, min_pixels = count_pixels(MASKS_PATH, CLASSES)\n",
    "\n",
    "# Step 3: Load the spectral image using spectral library\n",
    "# This returns a memory-mapped image object - <class 'spectral.io.bilfile.BilFile'>\n",
    "metrics = load_metrics(\"BR2085d_3_5_metrics_new_MNF20.hdr\")\n",
    "\n",
    "# Step 4: Extract spectral data and corresponding labels from the image\n",
    "# Only min_pixels per class are extracted to ensure class balance\n",
    "data, labels = extract_pixels(indexes, min_pixels, metrics)\n",
    "\n",
    "# Step 5: Split the dataset into training and test sets\n",
    "X_train, X_test, y_train, y_test = train_test_split(data, labels, test_size=0.3, random_state=42)\n",
    "\n",
    "# Step 6: Train a machine learning classifier - Random Forest\n",
    "classifier = train_classifier(X_train, y_train)\n",
    "evaluate_model(classifier, X_test, y_test)"
   ]
  },
  {
   "cell_type": "code",
   "execution_count": null,
   "metadata": {},
   "outputs": [
    {
     "name": "stdout",
     "output_type": "stream",
     "text": [
      "<class 'spectral.io.bipfile.BipFile'>\n",
      "(1800, 2296, 123)\n",
      "1\n",
      "2\n",
      "3\n"
     ]
    },
    {
     "name": "stderr",
     "output_type": "stream",
     "text": [
      "/home/sonia/.local/lib/python3.10/site-packages/spectral/io/spyfile.py:226: NaNValueWarning: Image data contains NaN values.\n",
      "  warnings.warn('Image data contains NaN values.', NaNValueWarning)\n"
     ]
    },
    {
     "name": "stdout",
     "output_type": "stream",
     "text": [
      "4\n"
     ]
    },
    {
     "name": "stderr",
     "output_type": "stream",
     "text": [
      "[Parallel(n_jobs=1)]: Done  49 tasks      | elapsed:   15.1s\n"
     ]
    },
    {
     "name": "stdout",
     "output_type": "stream",
     "text": [
      "Prediction done in 24.48s\n"
     ]
    }
   ],
   "source": [
    "# Step 8: Use the trained classifier to predict tissue types across the entire image\n",
    "# Generates an RGB image where each pixel is colored according to its predicted class\n",
    "predict_tissue(classifier, MASKS_PATH, TISSUE_MASK, metrics, CLASSES_COLORS)"
   ]
  },
  {
   "cell_type": "code",
   "execution_count": null,
   "metadata": {},
   "outputs": [],
   "source": []
  }
 ],
 "metadata": {
  "kernelspec": {
   "display_name": "env_ml",
   "language": "python",
   "name": "python3"
  },
  "language_info": {
   "codemirror_mode": {
    "name": "ipython",
    "version": 3
   },
   "file_extension": ".py",
   "mimetype": "text/x-python",
   "name": "python",
   "nbconvert_exporter": "python",
   "pygments_lexer": "ipython3",
   "version": "3.10.16"
  }
 },
 "nbformat": 4,
 "nbformat_minor": 2
}
